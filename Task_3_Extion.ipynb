{
 "cells": [
  {
   "cell_type": "code",
   "execution_count": 1,
   "id": "e5f9588a-08ab-41a1-ba8e-731f5809edd4",
   "metadata": {},
   "outputs": [
    {
     "ename": "ModuleNotFoundError",
     "evalue": "No module named 'nltk'",
     "output_type": "error",
     "traceback": [
      "\u001b[1;31m---------------------------------------------------------------------------\u001b[0m",
      "\u001b[1;31mModuleNotFoundError\u001b[0m                       Traceback (most recent call last)",
      "Cell \u001b[1;32mIn[1], line 1\u001b[0m\n\u001b[1;32m----> 1\u001b[0m \u001b[38;5;28;01mimport\u001b[39;00m \u001b[38;5;21;01mnltk\u001b[39;00m\n\u001b[0;32m      2\u001b[0m \u001b[38;5;28;01mfrom\u001b[39;00m \u001b[38;5;21;01mnltk\u001b[39;00m\u001b[38;5;21;01m.\u001b[39;00m\u001b[38;5;21;01mcorpus\u001b[39;00m \u001b[38;5;28;01mimport\u001b[39;00m movie_reviews\n\u001b[0;32m      3\u001b[0m \u001b[38;5;28;01mimport\u001b[39;00m \u001b[38;5;21;01mrandom\u001b[39;00m\n",
      "\u001b[1;31mModuleNotFoundError\u001b[0m: No module named 'nltk'"
     ]
    }
   ],
   "source": [
    "#preprocessing\n",
    "\n",
    "import nltk\n",
    "from nltk.corpus import movie_reviews\n",
    "import random\n",
    "\n",
    "nltk.download('movie_reviews')\n",
    "nltk.download('punkt')\n",
    "nltk.download('stopwords')\n",
    "\n",
    "documents = [(list(movie_reviews.words(fileid)), category)\n",
    "             for category in movie_reviews.categories()\n",
    "             for fileid in movie_reviews.fileids(category)]\n",
    "\n",
    "random.shuffle(documents)\n",
    "\n",
    "from nltk.corpus import stopwords\n",
    "from nltk import word_tokenize\n",
    "from string import punctuation\n",
    "\n",
    "stop_words = set(stopwords.words('english'))\n",
    "\n",
    "def preprocess_words(words):\n",
    "    return [word.lower() for word in words if word.lower() not in stop_words and word not in punctuation]\n",
    "\n",
    "documents = [(preprocess_words(doc), category) for doc, category in documents]"
   ]
  },
  {
   "cell_type": "code",
   "execution_count": null,
   "id": "7a31cde6-fbed-47ec-9d09-52175ce650d1",
   "metadata": {},
   "outputs": [],
   "source": [
    "#Creating model\n",
    "\n",
    "\n",
    "from nltk.probability import FreqDist\n",
    "from nltk.classify import NaiveBayesClassifier\n",
    "from nltk.classify.util import accuracy\n",
    "\n",
    "all_words = [word for doc, category in documents for word in doc]\n",
    "all_words_freq = FreqDist(all_words)\n",
    "word_features = list(all_words_freq.keys())[:2000]\n",
    "\n",
    "def document_features(document):\n",
    "    document_words = set(document)\n",
    "    features = {}\n",
    "    for word in word_features:\n",
    "        features[word] = (word in document_words)\n",
    "    return features\n",
    "\n",
    "feature_sets = [(document_features(doc), category) for doc, category in documents]\n",
    "\n",
    "train_set, test_set = feature_sets[:1800], feature_sets[1800:]\n",
    "\n",
    "classifier = NaiveBayesClassifier.train(train_set)\n",
    "\n",
    "print(f'Accuracy: {accuracy(classifier, test_set):.4f}')\n",
    "\n",
    "classifier.show_most_informative_features(10)\n"
   ]
  },
  {
   "cell_type": "code",
   "execution_count": null,
   "id": "1498f935-265d-4890-b491-d08ae0b03d9a",
   "metadata": {},
   "outputs": [],
   "source": [
    "#Output Generation\n",
    "\n",
    "def analyze_sentiment(text):\n",
    "    words = word_tokenize(text)\n",
    "    features = document_features(preprocess_words(words))\n",
    "    return classifier.classify(features)\n",
    "\n",
    "# Analyze sentiment of text samples\n",
    "samples = [\n",
    "    \"I love this movie, it was fantastic!\",\n",
    "    \"This film was terrible, I hated it.\",\n",
    "    \"The movie was okay, not great but not bad either.\"\n",
    "]\n",
    "\n",
    "for sample in samples:\n",
    "    sentiment = analyze_sentiment(sample)\n",
    "    print(f'Text: {sample}\\nSentiment: {sentiment}\\n')\n"
   ]
  }
 ],
 "metadata": {
  "kernelspec": {
   "display_name": "Python 3 (ipykernel)",
   "language": "python",
   "name": "python3"
  },
  "language_info": {
   "codemirror_mode": {
    "name": "ipython",
    "version": 3
   },
   "file_extension": ".py",
   "mimetype": "text/x-python",
   "name": "python",
   "nbconvert_exporter": "python",
   "pygments_lexer": "ipython3",
   "version": "3.12.3"
  }
 },
 "nbformat": 4,
 "nbformat_minor": 5
}
